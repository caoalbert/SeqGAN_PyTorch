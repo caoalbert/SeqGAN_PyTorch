{
 "cells": [
  {
   "cell_type": "code",
   "execution_count": 27,
   "metadata": {},
   "outputs": [],
   "source": [
    "import pandas as pd\n",
    "import numpy as np\n",
    "from datetime import datetime\n",
    "import pytz\n",
    "import pickle\n",
    "from tqdm import tqdm\n",
    "import warnings\n",
    "import time\n",
    "import torch"
   ]
  },
  {
   "cell_type": "code",
   "execution_count": 3,
   "metadata": {},
   "outputs": [],
   "source": [
    "with open('../DeepTimeGeo/trained_models/rb_0711_mask_0/data/training_set.pkl', 'rb') as f:\n",
    "    loc_np, time_x, poi_x, uid, loc_y, loc_y_exploration, is_commuter, rank_dist, selected_home_rank, selected_work_rank = pickle.load(f)\n",
    "key_table = pd.read_csv('../DeepTimeGeo/data/coral_gables/0708_r45_100/coral_gables_dict.csv')[['id', 'lon_x', 'lat_x', 'rank']]"
   ]
  },
  {
   "cell_type": "code",
   "execution_count": 4,
   "metadata": {},
   "outputs": [],
   "source": [
    "loc_np = np.array(loc_np)\n",
    "uid_np = np.array(uid)"
   ]
  },
  {
   "cell_type": "code",
   "execution_count": 5,
   "metadata": {},
   "outputs": [
    {
     "name": "stderr",
     "output_type": "stream",
     "text": [
      "  0%|          | 0/34147 [00:00<?, ?it/s]"
     ]
    },
    {
     "name": "stderr",
     "output_type": "stream",
     "text": [
      "100%|██████████| 34147/34147 [00:03<00:00, 9752.41it/s] \n"
     ]
    }
   ],
   "source": [
    "from tqdm import tqdm\n",
    "loc_np_filled = loc_np.copy()\n",
    "for i in tqdm(range(loc_np.shape[0])):\n",
    "    init = loc_np[i,:][loc_np[i,:] != 0][0]\n",
    "    for j in range(loc_np.shape[1]):\n",
    "        if loc_np[i,j] == 0:\n",
    "            loc_np_filled[i,j] = init\n",
    "        else:\n",
    "            init = loc_np[i,j]\n",
    "            loc_np_filled[i,j] = init\n"
   ]
  },
  {
   "cell_type": "code",
   "execution_count": 6,
   "metadata": {},
   "outputs": [],
   "source": [
    "arr_id = np.repeat(uid_np, loc_np_filled.shape[1])\n",
    "arr_loc = loc_np_filled.flatten()"
   ]
  },
  {
   "cell_type": "code",
   "execution_count": 7,
   "metadata": {},
   "outputs": [],
   "source": [
    "filled = pd.DataFrame({'id': arr_id, 'rank': arr_loc}, dtype='int64')\n",
    "merged = pd.merge(filled, key_table, on=['id', 'rank'], how='left')"
   ]
  },
  {
   "cell_type": "code",
   "execution_count": 8,
   "metadata": {},
   "outputs": [],
   "source": [
    "loc_key = merged[['lon_x', 'lat_x']].drop_duplicates().reset_index(drop=True).reset_index()\n",
    "final = pd.merge(merged, loc_key, on=['lon_x', 'lat_x'], how='left')"
   ]
  },
  {
   "cell_type": "code",
   "execution_count": 23,
   "metadata": {},
   "outputs": [],
   "source": [
    "real_data = final['index'].to_numpy().reshape(loc_np_filled.shape)\n",
    "\n",
    "fake_data = real_data.copy()\n",
    "indices = np.random.choice(real_data.size, int(real_data.size*0.2), replace=False)\n",
    "random_replacement = np.random.randint(0, loc_key.shape[0], size=indices.size)\n",
    "fake_data_flat = fake_data.flatten()\n",
    "fake_data_flat[indices] = random_replacement\n",
    "fake_data = fake_data_flat.reshape(fake_data.shape)\n",
    "\n",
    "real_data = torch.tensor(real_data, dtype=torch.long)\n",
    "fake_data = torch.tensor(fake_data, dtype=torch.long)\n",
    "\n",
    "data = torch.cat([real_data, fake_data], dim=0)"
   ]
  },
  {
   "cell_type": "code",
   "execution_count": 26,
   "metadata": {},
   "outputs": [],
   "source": [
    "torch.save(data, 'SeqGAN_input.pt')"
   ]
  },
  {
   "cell_type": "markdown",
   "metadata": {},
   "source": [
    "# Evaluate Outputs"
   ]
  },
  {
   "cell_type": "code",
   "execution_count": 43,
   "metadata": {},
   "outputs": [],
   "source": [
    "import generator\n",
    "gen = generator.Generator(32, 32, 81251, 24*14, gpu=True)\n",
    "gen.load_state_dict(torch.load('gen_adv_trained.trc'))\n",
    "gen.to(torch.device('cuda:1'))\n",
    "generated_sample = gen.sample(10000)"
   ]
  },
  {
   "cell_type": "code",
   "execution_count": 44,
   "metadata": {},
   "outputs": [],
   "source": [
    "np.save('SeqGAN_output.npy', generated_sample.cpu().numpy())"
   ]
  },
  {
   "cell_type": "code",
   "execution_count": null,
   "metadata": {},
   "outputs": [],
   "source": []
  }
 ],
 "metadata": {
  "kernelspec": {
   "display_name": "Python 3",
   "language": "python",
   "name": "python3"
  },
  "language_info": {
   "codemirror_mode": {
    "name": "ipython",
    "version": 3
   },
   "file_extension": ".py",
   "mimetype": "text/x-python",
   "name": "python",
   "nbconvert_exporter": "python",
   "pygments_lexer": "ipython3",
   "version": "3.11.5"
  }
 },
 "nbformat": 4,
 "nbformat_minor": 2
}
